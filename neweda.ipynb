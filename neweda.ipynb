print(haberFrame.ndim)
2
In [21]:
print(haberFrame.shape)
(306, 4)
In [22]:
#analysing first 5 rows to get overview
haberFrame.head()
Out[22]:
Age	Year	Aux_Nodes	Survival_Stat
0	30	64	1	1
1	30	62	3	1
2	30	65	0	1
3	31	59	2	1
4	31	65	4	1
In [23]:
#setting years to real values
haberFrame.Year+=1900
In [24]:
haberFrame.head()
Out[24]:
Age	Year	Aux_Nodes	Survival_Stat
0	30	1964	1	1
1	30	1962	3	1
2	30	1965	0	1
3	31	1959	2	1
4	31	1965	4	1
In [25]:
haberFrame['Survival_Stat'].value_counts()
Out[25]:
1    225
2     81
Name: Survival_Stat, dtype: int64
In [26]:
225*100/(225+81)
Out[26]:
73.52941176470588
**Observation

We got 4 numerical attributes(Features) AGE, YEAR, AUXILLIARY NODES, SURVIVAL STATUS
There are 306 data points as different patients
We got here an IMBALANCED DATASETS as number of datapoints for both classes are not equal in any sense (class) Patients survived = 225 (class) Patients died = 81
73.5% patients were alive **Objective Our objective here is to find the relation between (year, age and a auxillary nodes count) and (Survival status)
In [27]:
haberFrame['Survival_Stat'][haberFrame['Survival_Stat']==1]='Alive'
haberFrame['Survival_Stat'][haberFrame['Survival_Stat']==2]='Dead'
haberFrame.head(10)
Out[27]:
Age	Year	Aux_Nodes	Survival_Stat
0	30	1964	1	Alive
1	30	1962	3	Alive
2	30	1965	0	Alive
3	31	1959	2	Alive
4	31	1965	4	Alive
5	33	1958	10	Alive
6	33	1960	0	Alive
7	34	1959	0	Dead
8	34	1966	9	Dead
9	34	1958	30	Alive
In [28]:
print(haberFrame.describe())
              Age         Year   Aux_Nodes
count  306.000000   306.000000  306.000000
mean    52.457516  1962.852941    4.026144
std     10.803452     3.249405    7.189654
min     30.000000  1958.000000    0.000000
25%     44.000000  1960.000000    0.000000
50%     52.000000  1963.000000    1.000000
75%     60.750000  1965.750000    4.000000
max     83.000000  1969.000000   52.000000
**Observation

Range of Age -> [30 to 83] Mean 52.5
Range of Age -> [0 to 52] Mean 4
75% of patients had Auxillary nodes less than 4
50% of patients had Ausillary nodes less than 1
UniVariate Analysis(PDF, CDF, BOXPLOTs, VIOlLINPLOTs)
**Univariate analysis is the simplest form of analyzing data. “Uni” means “one”, "variate" means "variable or numeric variable" so, in other words your data has only one variable. It doesn't deal with causes or relationships (unlike regression) and it's major purpose is to describe; it takes data, summarizes that data and finds patterns in the data.

Distribution plots
In [29]:
sns.set_style('whitegrid')
plt.figure(1)
sns.FacetGrid(data=haberFrame,hue='Survival_Stat',height=5)\
    .map(sns.distplot,'Age')\
    .add_legend()
plt.title('Distribution plot of AGE')
plt.figure(2)
sns.FacetGrid(data=haberFrame,hue='Survival_Stat',height=5)\
    .map(sns.distplot,'Aux_Nodes',bins=10).add_legend()
plt.title('Distribution plot of AUXILLARY_NODES')
#plt.figure(3)
#sns.FacetGrid(data=haberFrame,hue='Survival_Stat',height=5)\
#    .map(sns.distplot,'Year').add_legend()
#plt.title('Distribution plot of YEAR')
plt.show()
<Figure size 432x288 with 0 Axes>


**Observation

from first plot: * patients with age 30-40 had greater chance of survival(as we can see blue curve was above)
             * patients with age 40-60 had greater chance of death 
from second plot: * patients with auxillary nodes between 0-5 was had very high chances of survival
distplot of year was not useful
PDFs and CDFs
In [30]:
sns.set_style('whitegrid')
plt.figure(figsize=(12,10))
plt.subplot(2,2,1)
agecount,bins= np.histogram(haberFrame['Age'],density=True)
pdf= agecount/sum(agecount)
cdf= np.cumsum(pdf)
plt.plot(bins[1:],pdf,'r-',label='PDF')
plt.plot(bins[1:],cdf,'b-',label='CDF')
plt.xlabel('Age')
plt.title('PDF CDF plots for AGE')
plt.legend()
print('AGE-->',bins,pdf,cdf,sep='\n')

plt.subplot(2,2,2)
agecount,bins= np.histogram(haberFrame['Year'],density=True)
pdf= agecount/sum(agecount)
cdf= np.cumsum(pdf)
plt.plot(bins[1:],pdf,'r-',label='PDF')
plt.plot(bins[1:],cdf,'b-',label='CDF')
plt.title('PDF CDF plots for Year')
plt.xlabel('Year')
plt.legend()
print('YEAR-->',bins,pdf,cdf,sep='\n')

plt.figure(figsize=(12,10))
plt.subplot(2,1,1)
agecount,bins= np.histogram(haberFrame['Aux_Nodes'],density=True)
pdf= agecount/sum(agecount)
cdf= np.cumsum(pdf)
plt.plot(bins[1:],pdf,'r-',label='PDF')
plt.plot(bins[1:],cdf,'b-',label='CDF')
plt.title('PDF CDF plots for Auxillary_Nodes')
plt.xlabel('Auxillary_Nodes')
plt.legend()
print('Auxillary Nodes-->',bins,pdf,cdf,sep='\n')
plt.show()
